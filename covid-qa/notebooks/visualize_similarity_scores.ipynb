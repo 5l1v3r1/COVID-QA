{
 "cells": [
  {
   "cell_type": "code",
   "execution_count": 65,
   "metadata": {},
   "outputs": [],
   "source": [
    "import pandas as pd\n",
    "import seaborn as sns\n",
    "import matplotlib.pyplot as plt"
   ]
  },
  {
   "cell_type": "code",
   "execution_count": 66,
   "metadata": {},
   "outputs": [],
   "source": [
    "df_data = pd.read_csv('embedding_similarity.csv')"
   ]
  },
  {
   "cell_type": "code",
   "execution_count": 67,
   "metadata": {},
   "outputs": [
    {
     "data": {
      "text/html": [
       "<div>\n",
       "<style scoped>\n",
       "    .dataframe tbody tr th:only-of-type {\n",
       "        vertical-align: middle;\n",
       "    }\n",
       "\n",
       "    .dataframe tbody tr th {\n",
       "        vertical-align: top;\n",
       "    }\n",
       "\n",
       "    .dataframe thead th {\n",
       "        text-align: right;\n",
       "    }\n",
       "</style>\n",
       "<table border=\"1\" class=\"dataframe\">\n",
       "  <thead>\n",
       "    <tr style=\"text-align: right;\">\n",
       "      <th></th>\n",
       "      <th>question_1</th>\n",
       "      <th>question_2</th>\n",
       "      <th>similar</th>\n",
       "      <th>glove_mean</th>\n",
       "      <th>glove_min</th>\n",
       "      <th>glove_max</th>\n",
       "      <th>fasstext_mean</th>\n",
       "      <th>fasstext_min</th>\n",
       "      <th>fasstext_max</th>\n",
       "      <th>elmo_mean</th>\n",
       "      <th>elmo_min</th>\n",
       "      <th>elmo_max</th>\n",
       "      <th>flair_mean</th>\n",
       "      <th>flair_min</th>\n",
       "      <th>flair_max</th>\n",
       "    </tr>\n",
       "  </thead>\n",
       "  <tbody>\n",
       "    <tr>\n",
       "      <th>0</th>\n",
       "      <td>What is a novel coronavirus?</td>\n",
       "      <td>What is a new coronavirus?</td>\n",
       "      <td>1</td>\n",
       "      <td>0.969663</td>\n",
       "      <td>0.962320</td>\n",
       "      <td>0.953024</td>\n",
       "      <td>0.986088</td>\n",
       "      <td>0.964997</td>\n",
       "      <td>0.961819</td>\n",
       "      <td>0.916189</td>\n",
       "      <td>0.965656</td>\n",
       "      <td>0.961327</td>\n",
       "      <td>0.956704</td>\n",
       "      <td>0.955254</td>\n",
       "      <td>0.951432</td>\n",
       "    </tr>\n",
       "    <tr>\n",
       "      <th>1</th>\n",
       "      <td>Why is the disease being called coronavirus di...</td>\n",
       "      <td>Why is the name of the disease coronavirus dis...</td>\n",
       "      <td>1</td>\n",
       "      <td>0.987822</td>\n",
       "      <td>0.973520</td>\n",
       "      <td>0.980981</td>\n",
       "      <td>0.994423</td>\n",
       "      <td>0.993324</td>\n",
       "      <td>0.988986</td>\n",
       "      <td>0.939447</td>\n",
       "      <td>0.947040</td>\n",
       "      <td>0.950697</td>\n",
       "      <td>0.970791</td>\n",
       "      <td>0.968950</td>\n",
       "      <td>0.969814</td>\n",
       "    </tr>\n",
       "    <tr>\n",
       "      <th>2</th>\n",
       "      <td>Why might someone blame or avoid individuals a...</td>\n",
       "      <td>What would be the reason to blame or avoid ind...</td>\n",
       "      <td>1</td>\n",
       "      <td>0.985725</td>\n",
       "      <td>0.987596</td>\n",
       "      <td>0.979712</td>\n",
       "      <td>0.992363</td>\n",
       "      <td>0.980096</td>\n",
       "      <td>0.981828</td>\n",
       "      <td>0.945514</td>\n",
       "      <td>0.948790</td>\n",
       "      <td>0.960128</td>\n",
       "      <td>0.962739</td>\n",
       "      <td>0.963922</td>\n",
       "      <td>0.964409</td>\n",
       "    </tr>\n",
       "    <tr>\n",
       "      <th>3</th>\n",
       "      <td>How can people help stop stigma related to COV...</td>\n",
       "      <td>What can be done to stop stigma related to COV...</td>\n",
       "      <td>1</td>\n",
       "      <td>0.985724</td>\n",
       "      <td>0.987656</td>\n",
       "      <td>0.986240</td>\n",
       "      <td>0.988362</td>\n",
       "      <td>0.981589</td>\n",
       "      <td>0.978043</td>\n",
       "      <td>0.930974</td>\n",
       "      <td>0.946333</td>\n",
       "      <td>0.939386</td>\n",
       "      <td>0.954533</td>\n",
       "      <td>0.959984</td>\n",
       "      <td>0.957737</td>\n",
       "    </tr>\n",
       "    <tr>\n",
       "      <th>4</th>\n",
       "      <td>What is the source of the virus?</td>\n",
       "      <td>Where does the virus come from?</td>\n",
       "      <td>1</td>\n",
       "      <td>0.936900</td>\n",
       "      <td>0.901894</td>\n",
       "      <td>0.861867</td>\n",
       "      <td>0.961313</td>\n",
       "      <td>0.926174</td>\n",
       "      <td>0.891326</td>\n",
       "      <td>0.811464</td>\n",
       "      <td>0.877028</td>\n",
       "      <td>0.864786</td>\n",
       "      <td>0.874726</td>\n",
       "      <td>0.879345</td>\n",
       "      <td>0.878291</td>\n",
       "    </tr>\n",
       "  </tbody>\n",
       "</table>\n",
       "</div>"
      ],
      "text/plain": [
       "                                          question_1  \\\n",
       "0                       What is a novel coronavirus?   \n",
       "1  Why is the disease being called coronavirus di...   \n",
       "2  Why might someone blame or avoid individuals a...   \n",
       "3  How can people help stop stigma related to COV...   \n",
       "4                   What is the source of the virus?   \n",
       "\n",
       "                                          question_2  similar  glove_mean  \\\n",
       "0                         What is a new coronavirus?        1    0.969663   \n",
       "1  Why is the name of the disease coronavirus dis...        1    0.987822   \n",
       "2  What would be the reason to blame or avoid ind...        1    0.985725   \n",
       "3  What can be done to stop stigma related to COV...        1    0.985724   \n",
       "4                    Where does the virus come from?        1    0.936900   \n",
       "\n",
       "   glove_min  glove_max  fasstext_mean  fasstext_min  fasstext_max  elmo_mean  \\\n",
       "0   0.962320   0.953024       0.986088      0.964997      0.961819   0.916189   \n",
       "1   0.973520   0.980981       0.994423      0.993324      0.988986   0.939447   \n",
       "2   0.987596   0.979712       0.992363      0.980096      0.981828   0.945514   \n",
       "3   0.987656   0.986240       0.988362      0.981589      0.978043   0.930974   \n",
       "4   0.901894   0.861867       0.961313      0.926174      0.891326   0.811464   \n",
       "\n",
       "   elmo_min  elmo_max  flair_mean  flair_min  flair_max  \n",
       "0  0.965656  0.961327    0.956704   0.955254   0.951432  \n",
       "1  0.947040  0.950697    0.970791   0.968950   0.969814  \n",
       "2  0.948790  0.960128    0.962739   0.963922   0.964409  \n",
       "3  0.946333  0.939386    0.954533   0.959984   0.957737  \n",
       "4  0.877028  0.864786    0.874726   0.879345   0.878291  "
      ]
     },
     "execution_count": 67,
     "metadata": {},
     "output_type": "execute_result"
    }
   ],
   "source": [
    "df_data.head()"
   ]
  },
  {
   "cell_type": "code",
   "execution_count": 68,
   "metadata": {},
   "outputs": [],
   "source": [
    "def get_cols(embedding, cols):\n",
    "    col_list = []\n",
    "    for col in cols:\n",
    "        if embedding in col:\n",
    "            col_list.append(col)\n",
    "    return col_list\n",
    "\n",
    "def plot_similarity_hist(embedding, title):\n",
    "    col_list = get_cols(embedding,df_data.columns)\n",
    "    fig, axes = plt.subplots(1, 3, figsize=(20, 3), sharex=True)\n",
    "    for idx,col_name in enumerate(col_list):\n",
    "        x = df_data[df_data['similar'] == 1][col_name]\n",
    "        y = df_data[df_data['similar'] == 0][col_name]\n",
    "        sns.distplot(x, kde=False, label=\"similar\", ax=axes[idx])\n",
    "        sns.distplot(y, kde=False, label=\"not-similar\", ax=axes[idx])\n",
    "    plt.legend()"
   ]
  },
  {
   "cell_type": "code",
   "execution_count": 69,
   "metadata": {},
   "outputs": [
    {
     "data": {
      "image/png": "[encoded data removed]",
      "text/plain": [
       "<Figure size 1440x216 with 3 Axes>"
      ]
     },
     "metadata": {
      "needs_background": "light"
     },
     "output_type": "display_data"
    }
   ],
   "source": [
    "plot_similarity_hist('glove', 'Distribution of similarity scores for similar and not-similar pairs of questions')"
   ]
  },
  {
   "cell_type": "code",
   "execution_count": 70,
   "metadata": {},
   "outputs": [
    {
     "data": {
      "image/png": "[encoded data removed]",
      "text/plain": [
       "<Figure size 1440x216 with 3 Axes>"
      ]
     },
     "metadata": {
      "needs_background": "light"
     },
     "output_type": "display_data"
    }
   ],
   "source": [
    "plot_similarity_hist('fasstext', 'Distribution of similarity scores for similar and not-similar pairs of questions')"
   ]
  },
  {
   "cell_type": "code",
   "execution_count": 71,
   "metadata": {},
   "outputs": [
    {
     "data": {
      "image/png": "[encoded data removed]",
      "text/plain": [
       "<Figure size 1440x216 with 3 Axes>"
      ]
     },
     "metadata": {
      "needs_background": "light"
     },
     "output_type": "display_data"
    }
   ],
   "source": [
    "plot_similarity_hist('elmo', 'Distribution of similarity scores for similar and not-similar pairs of questions')"
   ]
  },
  {
   "cell_type": "code",
   "execution_count": 72,
   "metadata": {},
   "outputs": [
    {
     "data": {
      "image/png": "[encoded data removed]",
      "text/plain": [
       "<Figure size 1440x216 with 3 Axes>"
      ]
     },
     "metadata": {
      "needs_background": "light"
     },
     "output_type": "display_data"
    }
   ],
   "source": [
    "plot_similarity_hist('flair', 'Distribution of similarity scores for similar and not-similar pairs of questions')"
   ]
  }
 ],
 "metadata": {
  "kernelspec": {
   "display_name": "Python 3",
   "language": "python",
   "name": "python3"
  },
  "language_info": {
   "codemirror_mode": {
    "name": "ipython",
    "version": 3
   },
   "file_extension": ".py",
   "mimetype": "text/x-python",
   "name": "python",
   "nbconvert_exporter": "python",
   "pygments_lexer": "ipython3",
   "version": "3.7.1"
  }
 },
 "nbformat": 4,
 "nbformat_minor": 2
}
